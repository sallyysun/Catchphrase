{
 "cells": [
  {
   "cell_type": "code",
   "execution_count": 127,
   "id": "9bd0b8c5",
   "metadata": {},
   "outputs": [],
   "source": [
    "import time\n",
    "import tweepy\n",
    "import pandas as pd\n",
    "import numpy as np\n",
    "import re\n",
    "from textblob import TextBlob\n",
    "import matplotlib.pyplot as plt"
   ]
  },
  {
   "cell_type": "code",
   "execution_count": 128,
   "id": "bf3d3a54",
   "metadata": {},
   "outputs": [],
   "source": [
    "%run ./keys.ipynb"
   ]
  },
  {
   "cell_type": "code",
   "execution_count": 129,
   "id": "cd11f65e",
   "metadata": {},
   "outputs": [],
   "source": [
    "callback_uri = 'oob'"
   ]
  },
  {
   "cell_type": "code",
   "execution_count": 130,
   "id": "82e97a4b",
   "metadata": {},
   "outputs": [],
   "source": [
    "auth = tweepy.OAuthHandler(consumer_key, consumer_secret, callback_uri)\n",
    "auth.set_access_token(access_token,access_token_secret)"
   ]
  },
  {
   "cell_type": "code",
   "execution_count": 131,
   "id": "753b45eb",
   "metadata": {},
   "outputs": [],
   "source": [
    "api = tweepy.API(auth, wait_on_rate_limit=True)"
   ]
  },
  {
   "cell_type": "code",
   "execution_count": 132,
   "id": "6e351c89",
   "metadata": {},
   "outputs": [],
   "source": [
    "api = tweepy.API(auth)"
   ]
  },
  {
   "cell_type": "code",
   "execution_count": 133,
   "id": "5c1fa3cf",
   "metadata": {},
   "outputs": [],
   "source": [
    "tweets = []\n",
    "likes = []\n",
    "        \n",
    "for tweet in tweepy.Cursor(api.search, q='woolworths').items(50):\n",
    "    tweets.append(tweet.text)\n",
    "    likes.append(tweet.favorite_count)"
   ]
  },
  {
   "cell_type": "code",
   "execution_count": 134,
   "id": "de93f824",
   "metadata": {},
   "outputs": [],
   "source": [
    "df = pd.DataFrame({'Tweet':tweets,'Likes':likes})"
   ]
  },
  {
   "cell_type": "code",
   "execution_count": 135,
   "id": "3a304129",
   "metadata": {},
   "outputs": [],
   "source": [
    "def cleanUpTweet(txt):\n",
    "    txt = re.sub(r'@[A-Za-z0-9]+', '', txt)\n",
    "    txt = re.sub(r'#', '', txt)\n",
    "    txt = re.sub(r'RT: ', '', txt)\n",
    "    txt = re.sub(r'https?:\\/\\/[A-Za-z0-9\\.\\/]+', '', txt)\n",
    "    return txt"
   ]
  },
  {
   "cell_type": "code",
   "execution_count": 136,
   "id": "456f1f96",
   "metadata": {},
   "outputs": [],
   "source": [
    "df['Tweet']=df['Tweet'].apply(cleanUpTweet)"
   ]
  },
  {
   "cell_type": "code",
   "execution_count": 137,
   "id": "0ddaefdc",
   "metadata": {},
   "outputs": [
    {
     "data": {
      "text/html": [
       "<div>\n",
       "<style scoped>\n",
       "    .dataframe tbody tr th:only-of-type {\n",
       "        vertical-align: middle;\n",
       "    }\n",
       "\n",
       "    .dataframe tbody tr th {\n",
       "        vertical-align: top;\n",
       "    }\n",
       "\n",
       "    .dataframe thead th {\n",
       "        text-align: right;\n",
       "    }\n",
       "</style>\n",
       "<table border=\"1\" class=\"dataframe\">\n",
       "  <thead>\n",
       "    <tr style=\"text-align: right;\">\n",
       "      <th></th>\n",
       "      <th>Tweet</th>\n",
       "      <th>Likes</th>\n",
       "    </tr>\n",
       "  </thead>\n",
       "  <tbody>\n",
       "    <tr>\n",
       "      <th>0</th>\n",
       "      <td>RT : I guess they sell everything but law text...</td>\n",
       "      <td>0</td>\n",
       "    </tr>\n",
       "    <tr>\n",
       "      <th>1</th>\n",
       "      <td>RT : I guess they sell everything but law text...</td>\n",
       "      <td>0</td>\n",
       "    </tr>\n",
       "    <tr>\n",
       "      <th>2</th>\n",
       "      <td>RT : I guess they sell everything but law text...</td>\n",
       "      <td>0</td>\n",
       "    </tr>\n",
       "    <tr>\n",
       "      <th>3</th>\n",
       "      <td>RT _SA: Stay ahead of the winter style game wi...</td>\n",
       "      <td>0</td>\n",
       "    </tr>\n",
       "    <tr>\n",
       "      <th>4</th>\n",
       "      <td>RT : I guess they sell everything but law text...</td>\n",
       "      <td>0</td>\n",
       "    </tr>\n",
       "  </tbody>\n",
       "</table>\n",
       "</div>"
      ],
      "text/plain": [
       "                                               Tweet  Likes\n",
       "0  RT : I guess they sell everything but law text...      0\n",
       "1  RT : I guess they sell everything but law text...      0\n",
       "2  RT : I guess they sell everything but law text...      0\n",
       "3  RT _SA: Stay ahead of the winter style game wi...      0\n",
       "4  RT : I guess they sell everything but law text...      0"
      ]
     },
     "execution_count": 137,
     "metadata": {},
     "output_type": "execute_result"
    }
   ],
   "source": [
    "df.head()"
   ]
  },
  {
   "cell_type": "code",
   "execution_count": 138,
   "id": "2577aec9",
   "metadata": {},
   "outputs": [
    {
     "name": "stdout",
     "output_type": "stream",
     "text": [
      "#elmalıdavası\n",
      "#Elmalida2Cocuk\n",
      "#お願いランキング\n",
      "#身長マイナス体重は110がベストらしい\n",
      "#は行でなぜモテないのか分かる\n",
      "ROSÉ ON THE SEA OF HOPE\n",
      "HBO Max\n",
      "ドグラ・マグラ\n",
      "わけほー\n",
      "横浜優勝\n",
      "うさほー\n",
      "Merve Akman\n",
      "政府検討\n",
      "引き分け\n",
      "五輪無観客論\n",
      "Rahmi Akman\n",
      "土砂降り\n",
      "Louder Than Bombs\n",
      "Housemarque\n",
      "フラカン\n",
      "NOW LOVE EM DOIS DIAS\n",
      "Kazuha\n",
      "フェアリー\n",
      "コールド\n",
      "Bluepoint\n",
      "万葉くん\n",
      "José Luis Moreno\n",
      "まん延防止\n",
      "消費者庁コラボ\n",
      "デドダム再録\n",
      "隔離施設\n",
      "フランスア\n",
      "岡本和真\n",
      "これ牛タン\n",
      "リチャ末\n",
      "Força Chico\n",
      "連敗ストップ\n",
      "Ylenia\n",
      "ラグビー五輪予選\n",
      "アウトのウガンダ選手団\n",
      "テレ東音楽祭\n",
      "#ボンビーガール\n",
      "#アメトーーク\n",
      "#おいYAGOO\n",
      "#VocêNuncaEsteveSozinha\n",
      "#蓮汰と一緒なら何も怖くない\n",
      "#로제를_바라던바다\n",
      "#달페이스\n",
      "#NonstopNontonEURO\n",
      "#今月描いた絵を晒そう\n"
     ]
    }
   ],
   "source": [
    "trends_result = api.trends_place(1)\n",
    "\n",
    "for trend in trends_result[0][\"trends\"]:\n",
    "    print(trend[\"name\"])"
   ]
  },
  {
   "cell_type": "code",
   "execution_count": 139,
   "id": "534784fa",
   "metadata": {},
   "outputs": [],
   "source": [
    "import seaborn as sns"
   ]
  },
  {
   "cell_type": "code",
   "execution_count": 140,
   "id": "df5d7d00",
   "metadata": {},
   "outputs": [
    {
     "data": {
      "text/plain": [
       "[['rt',\n",
       "  '@badvocateagain:',\n",
       "  'i',\n",
       "  'guess',\n",
       "  'they',\n",
       "  'sell',\n",
       "  'everything',\n",
       "  'but',\n",
       "  'law',\n",
       "  'textbooks',\n",
       "  'at',\n",
       "  'woolworths'],\n",
       " ['rt',\n",
       "  '@badvocateagain:',\n",
       "  'i',\n",
       "  'guess',\n",
       "  'they',\n",
       "  'sell',\n",
       "  'everything',\n",
       "  'but',\n",
       "  'law',\n",
       "  'textbooks',\n",
       "  'at',\n",
       "  'woolworths']]"
      ]
     },
     "execution_count": 140,
     "metadata": {},
     "output_type": "execute_result"
    }
   ],
   "source": [
    "words_in_tweet = [tweet.lower().split() for tweet in tweets]\n",
    "words_in_tweet[:2]"
   ]
  },
  {
   "cell_type": "code",
   "execution_count": 141,
   "id": "26f05f20",
   "metadata": {},
   "outputs": [],
   "source": [
    "import collections"
   ]
  },
  {
   "cell_type": "code",
   "execution_count": 142,
   "id": "1e567b31",
   "metadata": {},
   "outputs": [],
   "source": [
    "import itertools"
   ]
  },
  {
   "cell_type": "code",
   "execution_count": 143,
   "id": "75fd54d2",
   "metadata": {},
   "outputs": [
    {
     "data": {
      "text/plain": [
       "[('rt', 42),\n",
       " ('they', 39),\n",
       " ('at', 39),\n",
       " ('woolworths', 39),\n",
       " ('@badvocateagain:', 38),\n",
       " ('i', 38),\n",
       " ('guess', 38),\n",
       " ('sell', 38),\n",
       " ('everything', 38),\n",
       " ('but', 38),\n",
       " ('law', 38),\n",
       " ('textbooks', 38),\n",
       " ('the', 9),\n",
       " ('of', 7),\n",
       " ('for', 6),\n",
       " ('us', 5),\n",
       " ('to', 4),\n",
       " ('please', 4),\n",
       " ('dm', 4),\n",
       " ('and', 3),\n",
       " (\"we'd\", 3),\n",
       " ('like', 3),\n",
       " ('this', 3),\n",
       " ('a', 3),\n",
       " ('your', 3),\n",
       " ('@woolworths_sa:', 2),\n",
       " ('winter', 2),\n",
       " ('with', 2),\n",
       " ('hi', 2),\n",
       " ('look', 2)]"
      ]
     },
     "execution_count": 143,
     "metadata": {},
     "output_type": "execute_result"
    }
   ],
   "source": [
    "all_words = list(itertools.chain(*words_in_tweet))\n",
    "counts = collections.Counter(all_words)\n",
    "counts.most_common(30)"
   ]
  },
  {
   "cell_type": "code",
   "execution_count": 144,
   "id": "6a39942d",
   "metadata": {},
   "outputs": [
    {
     "data": {
      "text/html": [
       "<div>\n",
       "<style scoped>\n",
       "    .dataframe tbody tr th:only-of-type {\n",
       "        vertical-align: middle;\n",
       "    }\n",
       "\n",
       "    .dataframe tbody tr th {\n",
       "        vertical-align: top;\n",
       "    }\n",
       "\n",
       "    .dataframe thead th {\n",
       "        text-align: right;\n",
       "    }\n",
       "</style>\n",
       "<table border=\"1\" class=\"dataframe\">\n",
       "  <thead>\n",
       "    <tr style=\"text-align: right;\">\n",
       "      <th></th>\n",
       "      <th>words</th>\n",
       "      <th>count</th>\n",
       "    </tr>\n",
       "  </thead>\n",
       "  <tbody>\n",
       "    <tr>\n",
       "      <th>0</th>\n",
       "      <td>rt</td>\n",
       "      <td>42</td>\n",
       "    </tr>\n",
       "    <tr>\n",
       "      <th>1</th>\n",
       "      <td>they</td>\n",
       "      <td>39</td>\n",
       "    </tr>\n",
       "    <tr>\n",
       "      <th>2</th>\n",
       "      <td>at</td>\n",
       "      <td>39</td>\n",
       "    </tr>\n",
       "    <tr>\n",
       "      <th>3</th>\n",
       "      <td>woolworths</td>\n",
       "      <td>39</td>\n",
       "    </tr>\n",
       "    <tr>\n",
       "      <th>4</th>\n",
       "      <td>@badvocateagain:</td>\n",
       "      <td>38</td>\n",
       "    </tr>\n",
       "  </tbody>\n",
       "</table>\n",
       "</div>"
      ],
      "text/plain": [
       "              words  count\n",
       "0                rt     42\n",
       "1              they     39\n",
       "2                at     39\n",
       "3        woolworths     39\n",
       "4  @badvocateagain:     38"
      ]
     },
     "execution_count": 144,
     "metadata": {},
     "output_type": "execute_result"
    }
   ],
   "source": [
    "most_count = pd.DataFrame(counts.most_common(30),\n",
    "                         columns=['words','count'])\n",
    "most_count.head()"
   ]
  },
  {
   "cell_type": "code",
   "execution_count": 145,
   "id": "354a3465",
   "metadata": {},
   "outputs": [
    {
     "data": {
      "image/png": "[encoded data removed]",
      "text/plain": [
       "<Figure size 576x576 with 1 Axes>"
      ]
     },
     "metadata": {
      "needs_background": "light"
     },
     "output_type": "display_data"
    }
   ],
   "source": [
    "fig, ax = plt.subplots(figsize=(8,8))\n",
    "\n",
    "most_count.sort_values(by='count').plot.barh(x='words',\n",
    "                                             y='count',\n",
    "                                             ax=ax,\n",
    "                                             color=\"blue\")\n",
    "ax.set_title(\"Common words in tweets for trends\")\n",
    "plt.show()"
   ]
  },
  {
   "cell_type": "code",
   "execution_count": 146,
   "id": "cc50aae6",
   "metadata": {},
   "outputs": [],
   "source": [
    "import nltk\n",
    "from nltk.corpus import stopwords"
   ]
  },
  {
   "cell_type": "code",
   "execution_count": 147,
   "id": "c46078c1",
   "metadata": {},
   "outputs": [],
   "source": [
    "stop_words = set(stopwords.words('english'))"
   ]
  },
  {
   "cell_type": "code",
   "execution_count": 148,
   "id": "b0e8d7de",
   "metadata": {},
   "outputs": [
    {
     "data": {
      "text/plain": [
       "['rt',\n",
       " '@badvocateagain:',\n",
       " 'guess',\n",
       " 'sell',\n",
       " 'everything',\n",
       " 'law',\n",
       " 'textbooks',\n",
       " 'woolworths']"
      ]
     },
     "execution_count": 148,
     "metadata": {},
     "output_type": "execute_result"
    }
   ],
   "source": [
    "cleaned_tweets = [[word for word in tweet_words if not word in stop_words] for tweet_words in words_in_tweet]\n",
    "cleaned_tweets[0]"
   ]
  },
  {
   "cell_type": "code",
   "execution_count": 149,
   "id": "7727cf30",
   "metadata": {},
   "outputs": [
    {
     "data": {
      "text/plain": [
       "[('rt', 42),\n",
       " ('woolworths', 39),\n",
       " ('@badvocateagain:', 38),\n",
       " ('guess', 38),\n",
       " ('sell', 38),\n",
       " ('everything', 38),\n",
       " ('law', 38),\n",
       " ('textbooks', 38),\n",
       " ('us', 5),\n",
       " ('please', 4),\n",
       " ('dm', 4),\n",
       " (\"we'd\", 3),\n",
       " ('like', 3),\n",
       " ('@woolworths_sa:', 2),\n",
       " ('winter', 2),\n",
       " ('hi', 2),\n",
       " ('look', 2),\n",
       " ('you.', 2),\n",
       " ('hey', 2),\n",
       " ('contact', 2),\n",
       " ('details?', 2),\n",
       " ('sorry', 2),\n",
       " ('@woolworths_sa', 2),\n",
       " ('view', 2),\n",
       " ('stay', 1),\n",
       " ('ahead', 1),\n",
       " ('style', 1),\n",
       " ('game', 1),\n",
       " ('sneakers,', 1),\n",
       " ('boots', 1)]"
      ]
     },
     "execution_count": 149,
     "metadata": {},
     "output_type": "execute_result"
    }
   ],
   "source": [
    "all_words_cleaned = list(itertools.chain(*cleaned_tweets))\n",
    "countsclean = collections.Counter(all_words_cleaned)\n",
    "countsclean.most_common(30)"
   ]
  },
  {
   "cell_type": "code",
   "execution_count": 150,
   "id": "9038d899",
   "metadata": {},
   "outputs": [
    {
     "data": {
      "image/png": "[encoded data removed]",
      "text/plain": [
       "<Figure size 576x576 with 1 Axes>"
      ]
     },
     "metadata": {
      "needs_background": "light"
     },
     "output_type": "display_data"
    }
   ],
   "source": [
    "counts_cleaned = pd.DataFrame(countsclean.most_common(30),\n",
    "                             columns=['words', 'count'])\n",
    "\n",
    "fig, ax = plt.subplots(figsize=(8,8))\n",
    "\n",
    "counts_cleaned.sort_values(by='count').plot.barh(x='words',\n",
    "                                             y='count',\n",
    "                                             ax=ax,\n",
    "                                             color=\"blue\")\n",
    "ax.set_title(\"Common words in tweets for trends\")\n",
    "plt.show()"
   ]
  },
  {
   "cell_type": "code",
   "execution_count": null,
   "id": "8acaf65e",
   "metadata": {},
   "outputs": [],
   "source": []
  }
 ],
 "metadata": {
  "kernelspec": {
   "display_name": "Python 3",
   "language": "python",
   "name": "python3"
  },
  "language_info": {
   "codemirror_mode": {
    "name": "ipython",
    "version": 3
   },
   "file_extension": ".py",
   "mimetype": "text/x-python",
   "name": "python",
   "nbconvert_exporter": "python",
   "pygments_lexer": "ipython3",
   "version": "3.9.5"
  }
 },
 "nbformat": 4,
 "nbformat_minor": 5
}
