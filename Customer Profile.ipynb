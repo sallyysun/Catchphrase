{
 "cells": [
  {
   "cell_type": "code",
   "execution_count": 2,
   "id": "c3f52d2a",
   "metadata": {},
   "outputs": [],
   "source": [
    "import time\n",
    "import tweepy\n",
    "import pandas as pd\n",
    "import numpy as np\n",
    "import re\n",
    "import matplotlib.pyplot as plt\n",
   ]
  },
  {
   "cell_type": "code",
   "execution_count": 3,
   "id": "6b55b13c",
   "metadata": {},
   "outputs": [],
   "source": [
    "%run ./keys.ipynb"
   ]
  },
  {
   "cell_type": "code",
   "execution_count": 4,
   "id": "8a1f3922",
   "metadata": {},
   "outputs": [],
   "source": [
    "callback_uri = 'oob'"
   ]
  },
  {
   "cell_type": "code",
   "execution_count": 5,
   "id": "324ecebb",
   "metadata": {},
   "outputs": [],
   "source": [
    "auth = tweepy.OAuthHandler(consumer_key, consumer_secret, callback_uri)\n",
    "auth.set_access_token(access_token,access_token_secret)"
   ]
  },
  {
   "cell_type": "code",
   "execution_count": 6,
   "id": "89ef8922",
   "metadata": {},
   "outputs": [],
   "source": [
    "api = tweepy.API(auth, wait_on_rate_limit=True)"
   ]
  },
  {
   "cell_type": "code",
   "execution_count": 18,
   "id": "c57f3364",
   "metadata": {},
   "outputs": [],
   "source": [
    "tweets = []\n",
    "users = []\n",
    "    \n",
    "geo='-33.865143,151.209900,50km' # geocode for sydney with 50km radius\n",
    "    \n",
    "# Keyword filters for what consumers are interested in\n",
    "kw_cleaning = 'cleaning OR household OR disinfectant' # keywords for customers interested in cleaning products\n",
    "kw_food = 'food OR cooking OR chef OR homemade food' # keywords for customers interested in fresh food\n",
    "kw_beauty = 'makeup OR lipstick OR concealer OR foundation OR blush OR mascara' # keywords for customers interested in beauty products\n",
    "for tweet in tweepy.Cursor(api.search, q=kw_food, geocode=geo).items(100):\n",
    "    tweets.append(tweet.text)\n",
    "    users.append(tweet.user.screen_name) # gives us an array of users who are interested in these areas"
   ]
  },
  {
   "cell_type": "code",
   "execution_count": 19,
   "id": "bb5b6cbd",
   "metadata": {},
   "outputs": [
    {
     "data": {
      "text/html": [
       "<div>\n",
       "<style scoped>\n",
       "    .dataframe tbody tr th:only-of-type {\n",
       "        vertical-align: middle;\n",
       "    }\n",
       "\n",
       "    .dataframe tbody tr th {\n",
       "        vertical-align: top;\n",
       "    }\n",
       "\n",
       "    .dataframe thead th {\n",
       "        text-align: right;\n",
       "    }\n",
       "</style>\n",
       "<table border=\"1\" class=\"dataframe\">\n",
       "  <thead>\n",
       "    <tr style=\"text-align: right;\">\n",
       "      <th></th>\n",
       "      <th>Tweet</th>\n",
       "      <th>User</th>\n",
       "    </tr>\n",
       "  </thead>\n",
       "  <tbody>\n",
       "    <tr>\n",
       "      <th>0</th>\n",
       "      <td>@angryhacademic I don't know if the protein pr...</td>\n",
       "      <td>FusionProgGuy</td>\n",
       "    </tr>\n",
       "    <tr>\n",
       "      <th>1</th>\n",
       "      <td>@benjmakesmovies @CCampbell615 @Technik_u_Welt...</td>\n",
       "      <td>torn_ainbow</td>\n",
       "    </tr>\n",
       "    <tr>\n",
       "      <th>2</th>\n",
       "      <td>I think eating really good food with someone i...</td>\n",
       "      <td>bbygirlo_</td>\n",
       "    </tr>\n",
       "    <tr>\n",
       "      <th>3</th>\n",
       "      <td>@liviaabrag @food_porn17 @wendleyB Vcs compram...</td>\n",
       "      <td>ajamesilva</td>\n",
       "    </tr>\n",
       "    <tr>\n",
       "      <th>4</th>\n",
       "      <td>RT @Nick_GaleANZ: Every wondered about the ori...</td>\n",
       "      <td>GaleEMEA</td>\n",
       "    </tr>\n",
       "    <tr>\n",
       "      <th>...</th>\n",
       "      <td>...</td>\n",
       "      <td>...</td>\n",
       "    </tr>\n",
       "    <tr>\n",
       "      <th>95</th>\n",
       "      <td>RT @IMAROOSTAR: If you know any pensioners bet...</td>\n",
       "      <td>andymckay87</td>\n",
       "    </tr>\n",
       "    <tr>\n",
       "      <th>96</th>\n",
       "      <td>RT @HannahD15: Menulog's trial of actually *em...</td>\n",
       "      <td>runawaycow</td>\n",
       "    </tr>\n",
       "    <tr>\n",
       "      <th>97</th>\n",
       "      <td>RT @IMAROOSTAR: If you know any pensioners bet...</td>\n",
       "      <td>KellyRo42046860</td>\n",
       "    </tr>\n",
       "    <tr>\n",
       "      <th>98</th>\n",
       "      <td>RT @IMAROOSTAR: If you know any pensioners bet...</td>\n",
       "      <td>petermdennis66</td>\n",
       "    </tr>\n",
       "    <tr>\n",
       "      <th>99</th>\n",
       "      <td>@psidart @ajtourville @ConsumerReports This li...</td>\n",
       "      <td>D4RKM4773R</td>\n",
       "    </tr>\n",
       "  </tbody>\n",
       "</table>\n",
       "<p>100 rows × 2 columns</p>\n",
       "</div>"
      ],
      "text/plain": [
       "                                                Tweet             User\n",
       "0   @angryhacademic I don't know if the protein pr...    FusionProgGuy\n",
       "1   @benjmakesmovies @CCampbell615 @Technik_u_Welt...      torn_ainbow\n",
       "2   I think eating really good food with someone i...        bbygirlo_\n",
       "3   @liviaabrag @food_porn17 @wendleyB Vcs compram...       ajamesilva\n",
       "4   RT @Nick_GaleANZ: Every wondered about the ori...         GaleEMEA\n",
       "..                                                ...              ...\n",
       "95  RT @IMAROOSTAR: If you know any pensioners bet...      andymckay87\n",
       "96  RT @HannahD15: Menulog's trial of actually *em...       runawaycow\n",
       "97  RT @IMAROOSTAR: If you know any pensioners bet...  KellyRo42046860\n",
       "98  RT @IMAROOSTAR: If you know any pensioners bet...   petermdennis66\n",
       "99  @psidart @ajtourville @ConsumerReports This li...       D4RKM4773R\n",
       "\n",
       "[100 rows x 2 columns]"
      ]
     },
     "execution_count": 19,
     "metadata": {},
     "output_type": "execute_result"
    }
   ],
   "source": [
    "df = pd.DataFrame({'Tweet':tweets,'User':users})\n",
    "df.head(100)"
   ]
  },
  {
   "cell_type": "code",
   "execution_count": null,
   "id": "fb54b9da",
   "metadata": {},
   "outputs": [],
   "source": []
  }
 ],
 "metadata": {
  "kernelspec": {
   "display_name": "Python 3",
   "language": "python",
   "name": "python3"
  },
  "language_info": {
   "codemirror_mode": {
    "name": "ipython",
    "version": 3
   },
   "file_extension": ".py",
   "mimetype": "text/x-python",
   "name": "python",
   "nbconvert_exporter": "python",
   "pygments_lexer": "ipython3",
   "version": "3.9.5"
  }
 },
 "nbformat": 4,
 "nbformat_minor": 5
}
